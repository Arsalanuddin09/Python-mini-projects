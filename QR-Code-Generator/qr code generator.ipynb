{
 "cells": [
  {
   "cell_type": "code",
   "execution_count": 4,
   "id": "4a177285-5192-4ad7-95e1-a03419d8a4ff",
   "metadata": {},
   "outputs": [
    {
     "name": "stdout",
     "output_type": "stream",
     "text": [
      "Requirement already satisfied: qrcode in c:\\users\\uddin\\anaconda3\\lib\\site-packages (8.2)\n",
      "Requirement already satisfied: colorama in c:\\users\\uddin\\anaconda3\\lib\\site-packages (from qrcode) (0.4.6)\n",
      "Note: you may need to restart the kernel to use updated packages.\n"
     ]
    }
   ],
   "source": [
    "pip install qrcode"
   ]
  },
  {
   "cell_type": "code",
   "execution_count": null,
   "id": "7969a5ba-5de0-4b4f-80f1-2e6ce55b5ac9",
   "metadata": {},
   "outputs": [],
   "source": [
    "# Basic QR generator Code\n",
    "# Import the qrcode library and alias it as 'qr' for convenience\n",
    "import qrcode as qr\n",
    "\n",
    "# Generate a basic QR code for the given URL\n",
    "img = qr.make(\"https://www.youtube.com/\")  # Automatically creates a QR code with default settings\n",
    "\n",
    "# Save the generated QR code as an image file\n",
    "img.save(\"random_yt.png\")  # Saves the image as 'random_yt.png' in the current directory\n"
   ]
  },
  {
   "cell_type": "code",
   "execution_count": 24,
   "id": "212e13d6-c14d-4125-9fb9-16af01224c22",
   "metadata": {},
   "outputs": [
    {
     "name": "stdin",
     "output_type": "stream",
     "text": [
      "Enter the text or URL to generate QR code:  https://www.youtube.com/watch?v=FOGRHBp6lvM&t=1111s\n"
     ]
    },
    {
     "name": "stdout",
     "output_type": "stream",
     "text": [
      "QR code has been generated and saved as 'your_qrcode.png'\n"
     ]
    }
   ],
   "source": [
    "# Import the required libraries\n",
    "import qrcode\n",
    "from PIL import Image  # Used for handling image files (optional here, but useful for further processing)\n",
    "\n",
    "# Take input from the user\n",
    "data = input(\"Enter the text or URL to generate QR code: \")\n",
    "\n",
    "# Create a QRCode object with specific configuration\n",
    "qr = qrcode.QRCode(\n",
    "    version=1,  # Controls the size of the QR Code (1 is the smallest version, 21x21 matrix)\n",
    "    error_correction=qrcode.constants.ERROR_CORRECT_H,  # High error correction: ~30% of data can be restored\n",
    "    box_size=10,  # Size of each box in pixels\n",
    "    border=4,  # Thickness of the border (minimum is 4)\n",
    ")\n",
    "\n",
    "# Add the user's input to the QR code\n",
    "qr.add_data(data)\n",
    "\n",
    "# Generate the QR code matrix\n",
    "qr.make(fit=True)  # Adjusts the QR code size to fit the data\n",
    "\n",
    "# Create an image of the QR code with customized colors\n",
    "img = qr.make_image(fill_color=\"Green\", back_color=\"white\")\n",
    "\n",
    "# Save the image to a file\n",
    "img.save(\"your_qrcode.png\")\n",
    "\n",
    "print(\"QR code has been generated and saved as 'your_qrcode.png'\")\n"
   ]
  },
  {
   "cell_type": "code",
   "execution_count": null,
   "id": "4cd0f218-c55b-4951-b73a-700acec0cb6d",
   "metadata": {},
   "outputs": [],
   "source": []
  }
 ],
 "metadata": {
  "kernelspec": {
   "display_name": "Python 3 (ipykernel)",
   "language": "python",
   "name": "python3"
  },
  "language_info": {
   "codemirror_mode": {
    "name": "ipython",
    "version": 3
   },
   "file_extension": ".py",
   "mimetype": "text/x-python",
   "name": "python",
   "nbconvert_exporter": "python",
   "pygments_lexer": "ipython3",
   "version": "3.12.4"
  }
 },
 "nbformat": 4,
 "nbformat_minor": 5
}
