{
 "cells": [
  {
   "cell_type": "code",
   "execution_count": 1,
   "id": "dad14889-bda2-4b31-8ea2-565c59af60ba",
   "metadata": {},
   "outputs": [
    {
     "name": "stdout",
     "output_type": "stream",
     "text": [
      "Requirement already satisfied: requests in c:\\users\\uddin\\anaconda3\\lib\\site-packages (2.32.2)\n",
      "Requirement already satisfied: charset-normalizer<4,>=2 in c:\\users\\uddin\\anaconda3\\lib\\site-packages (from requests) (2.0.4)\n",
      "Requirement already satisfied: idna<4,>=2.5 in c:\\users\\uddin\\anaconda3\\lib\\site-packages (from requests) (3.7)\n",
      "Requirement already satisfied: urllib3<3,>=1.21.1 in c:\\users\\uddin\\anaconda3\\lib\\site-packages (from requests) (2.2.2)\n",
      "Requirement already satisfied: certifi>=2017.4.17 in c:\\users\\uddin\\anaconda3\\lib\\site-packages (from requests) (2024.12.14)\n",
      "Note: you may need to restart the kernel to use updated packages.\n"
     ]
    }
   ],
   "source": [
    "pip install requests"
   ]
  },
  {
   "cell_type": "code",
   "execution_count": 61,
   "id": "fe56b8e3-2b77-41ef-be43-c595ae974855",
   "metadata": {},
   "outputs": [
    {
     "name": "stdin",
     "output_type": "stream",
     "text": [
      "Enter city:  lucknow\n"
     ]
    },
    {
     "name": "stdout",
     "output_type": "stream",
     "text": [
      "The weather in lucknow is Haze\n",
      "The temperature in lucknow is 88*F\n"
     ]
    }
   ],
   "source": [
    "import requests\n",
    "\n",
    "api_key = 'dd6ce22e26b68b0a11ee286d4b90f939'\n",
    "user_input = input(\"Enter city: \")\n",
    "\n",
    "weather_data = requests.get(f\"https://api.openweathermap.org/data/2.5/weather?q={user_input}&units=imperial&APPID={api_key}\")\n",
    "\n",
    "\n",
    "\n",
    "# print(weather_data.status_code)\n",
    "# print(weather_data.json())\n",
    "weather = weather_data.json()[\"weather\"][0][\"main\"]\n",
    "temp = round(weather_data.json()[\"main\"][\"temp\"])\n",
    "# temp = (temp_f - 32) * 5/9\n",
    "\n",
    "print(f\"The weather in {user_input} is {weather}\")\n",
    "print(f\"The temperature in {user_input} is {temp}*F\")"
   ]
  },
  {
   "cell_type": "code",
   "execution_count": null,
   "id": "a65d4407-611e-4d89-b5b8-3d6b8ae53eba",
   "metadata": {},
   "outputs": [],
   "source": []
  }
 ],
 "metadata": {
  "kernelspec": {
   "display_name": "Python 3 (ipykernel)",
   "language": "python",
   "name": "python3"
  },
  "language_info": {
   "codemirror_mode": {
    "name": "ipython",
    "version": 3
   },
   "file_extension": ".py",
   "mimetype": "text/x-python",
   "name": "python",
   "nbconvert_exporter": "python",
   "pygments_lexer": "ipython3",
   "version": "3.12.4"
  }
 },
 "nbformat": 4,
 "nbformat_minor": 5
}
